{
 "cells": [
  {
   "cell_type": "code",
   "execution_count": 1,
   "id": "97fdac1b",
   "metadata": {},
   "outputs": [],
   "source": [
    "import xml.etree.ElementTree as ET\n",
    "import json\n",
    "from collections import OrderedDict\n",
    "import numpy as np\n",
    "import random\n",
    "import matplotlib.pyplot as plt\n",
    "import re\n",
    "import seaborn as sns"
   ]
  },
  {
   "cell_type": "markdown",
   "id": "6b1d7e5c",
   "metadata": {},
   "source": [
    "# Change the file path to your current path if you want to reuse the code. "
   ]
  },
  {
   "cell_type": "markdown",
   "id": "74873856",
   "metadata": {},
   "source": [
    "## Parse the xml files into a total dictionary"
   ]
  },
  {
   "cell_type": "markdown",
   "id": "2dc9a620",
   "metadata": {},
   "source": [
    "Code below is a modified version of xml parser: \n",
    "Achakulvisut et al., (2020). Pubmed Parser: A Python Parser for PubMed Open-Access XML Subset and MEDLINE XML Dataset XML Dataset. Journal of Open Source Software, 5(46), 1979, https://doi.org/10.21105/joss.01979"
   ]
  },
  {
   "cell_type": "code",
   "execution_count": 25,
   "id": "22656a7f",
   "metadata": {},
   "outputs": [],
   "source": [
    "\n",
    "# find all keywords from the kwd xml tag\n",
    "def getKeywords(path):\n",
    "    temp = ET.parse(path).getroot()\n",
    "    try:\n",
    "        kwds = []\n",
    "        for group in temp.findall('.//kwd-group'):\n",
    "            for kwd in group.findall('kwd'):\n",
    "                s = ''\n",
    "                for t in kwd.itertext():\n",
    "                    text = t.replace(\"\\n\", \" \").replace(\"\\t\", \" \").strip()\n",
    "                    s += text\n",
    "                kwds.append(s)\n",
    "        return kwds\n",
    "    except BaseException:\n",
    "        return []\n",
    "\n",
    "# find abstract from the abstract xml tag\n",
    "def getAbstract(path):\n",
    "    temp = ET.parse(path).getroot()\n",
    "    try:\n",
    "        abstracts = []\n",
    "        abstract_tree = temp.findall(\".//abstract\")\n",
    "        for a in abstract_tree:\n",
    "            for p in a.findall('.//p'):\n",
    "                for t in p.itertext():\n",
    "                    text = t.replace(\"\\n\", \" \").replace(\"\\t\", \" \").strip()\n",
    "                    abstracts.append(text)\n",
    "        abstract = \" \".join(abstracts)\n",
    "        return abstract\n",
    "    except BaseException:\n",
    "        abstract = \"\"\n",
    "        return abstract\n",
    "import os\n",
    "\n",
    "# find title from the title xml tag\n",
    "def getTitle(path):\n",
    "    tree = ET.parse(path).getroot()\n",
    "    tree_title = tree.find(\".//title-group/article-title\")\n",
    "    if tree_title is not None:\n",
    "        title = [t for t in tree_title.itertext()]\n",
    "        title = [t.replace(\"\\n\", \" \").replace(\"\\t\", \" \") for t in title]\n",
    "        full_title = \" \".join(title)\n",
    "    else:\n",
    "        full_title = \"\"\n",
    "    return full_title.strip()\n",
    "\n",
    " # helper method that gets the full path of xml file\n",
    "def list_xml_path(path_dir):\n",
    "    fullpath = [\n",
    "        os.path.join(dp, f)\n",
    "        for dp, dn, fn in os.walk(os.path.expanduser(path_dir))\n",
    "        for f in fn\n",
    "    ]\n",
    "   \n",
    "    path_list = [\n",
    "        folder\n",
    "        for folder in fullpath\n",
    "        if os.path.splitext(folder)[-1] in (\".nxml\", \".xml\")\n",
    "    ]\n",
    "    return path_list\n",
    "\n",
    "\n",
    "if __name__ == \"__main__\":\n",
    "    # change the file path\n",
    "    filename = '/home/ubuntu/pubmed/dataset/total.json'\n",
    "    f = open(filename,)\n",
    "    # if there is no data, then begin parsing\n",
    "    try:\n",
    "        final = json.load(f)\n",
    "    except:\n",
    "        final = OrderedDict()\n",
    "    \n",
    "    f = open(filename, 'w')\n",
    "    \n",
    "    path_xml = list_xml_path(\n",
    "        '/home/ubuntu/pubmed/data/O')  # list all xml paths under directory\n",
    "\n",
    "    for path in path_xml:\n",
    "        # get keywords, abstract and title for each file in the path\n",
    "        keywords = getKeywords(path)\n",
    "        abstract = getAbstract(path)\n",
    "        title = getTitle(path)\n",
    "        # ignore the file that failed to be parsed\n",
    "        if title == \"\" or abstract == \"\" or keywords == []:\n",
    "            continue\n",
    "        # seperate words that is in the abstract and that is not in the abstract\n",
    "        contain = []\n",
    "        not_contain = []\n",
    "        for word in keywords:\n",
    "            if word.lower() in abstract.lower():\n",
    "                contain.append(word)\n",
    "            else:\n",
    "                not_contain.append(word)\n",
    "\n",
    "        result = {\"title\":title, \"abstract\":abstract,\"keywords_in\":contain, \"keywords_not_in\":not_contain}\n",
    "        # index as the PMCxxxxxx PMC id\n",
    "        index = re.split(\"\\.\",re.split(\"/\",path)[-1])[0]\n",
    "        final[index] = result\n",
    "\n",
    "    json.dump(final, f, indent = 4)\n",
    "    f.close()\n",
    "\n"
   ]
  },
  {
   "cell_type": "markdown",
   "id": "9fa37cb9",
   "metadata": {},
   "source": [
    "### Seperate the total dictionary into train-test-validation split."
   ]
  },
  {
   "cell_type": "code",
   "execution_count": 36,
   "id": "unsigned-dryer",
   "metadata": {
    "scrolled": true
   },
   "outputs": [],
   "source": [
    "f = open('/home/ubuntu/pubmed/dataset/total.json')\n",
    "total = json.load(f)\n",
    "f.close()\n"
   ]
  },
  {
   "cell_type": "code",
   "execution_count": 32,
   "id": "7385f09b",
   "metadata": {},
   "outputs": [
    {
     "name": "stdout",
     "output_type": "stream",
     "text": [
      "505959\n",
      "168653\n",
      "168653\n"
     ]
    }
   ],
   "source": [
    "total_len = len(total)\n",
    "test_len = int(total_len * 0.2)\n",
    "validate_len = int(test_len)\n",
    "train_len = int(total_len - test_len * 2)\n",
    "\n",
    "print(train_len)\n",
    "print(test_len)\n",
    "print(validate_len)"
   ]
  },
  {
   "cell_type": "code",
   "execution_count": null,
   "id": "0195e630",
   "metadata": {},
   "outputs": [],
   "source": [
    "ftrain = open('/home/ubuntu/pubmed/dataset/train.json', 'w')\n",
    "ftest = open('/home/ubuntu/pubmed/dataset/test.json', 'w')\n",
    "fvalidate = open('/home/ubuntu/pubmed/dataset/validate.json', 'w')\n",
    "\n",
    "test = {}\n",
    "train = {}\n",
    "validate = {}\n",
    "testc = 0\n",
    "trainc = 0\n",
    "validatec = 0\n",
    "\n",
    "# iterate the whole dictionary to put total dict elements into 3 buckets\n",
    "for key, val in total.items():\n",
    "    #if test dict is not full\n",
    "    if testc != test_len:\n",
    "        test[key] = val\n",
    "        testc += 1\n",
    "    elif trainc != train_len:\n",
    "        train[key] = val\n",
    "        trainc += 1\n",
    "    else:\n",
    "        validate[key] = val\n",
    "\n",
    "json.dump(test, ftest, indent = 4)\n",
    "json.dump(train, ftrain, indent = 4)\n",
    "json.dump(validate, fvalidate, indent = 4)\n",
    "\n",
    "ftrain.close()\n",
    "ftest.close()\n",
    "fvalidate.close()\n"
   ]
  },
  {
   "cell_type": "markdown",
   "id": "62cb4340",
   "metadata": {},
   "source": [
    "## Create a small dataset for only 5-25 extractive keywords."
   ]
  },
  {
   "cell_type": "code",
   "execution_count": 85,
   "id": "acting-battery",
   "metadata": {},
   "outputs": [],
   "source": [
    "#create small dataset with only 5-25 extractive keywords\n",
    "f = open('/home/ubuntu/pubmed/dataset/total.json')\n",
    "temp_total = json.load(f)\n",
    "f.close()\n"
   ]
  },
  {
   "cell_type": "code",
   "execution_count": 86,
   "id": "b713387e",
   "metadata": {},
   "outputs": [
    {
     "name": "stdout",
     "output_type": "stream",
     "text": [
      "82011\n",
      "27336\n",
      "27336\n"
     ]
    }
   ],
   "source": [
    "#filter dataset\n",
    "total = {}\n",
    "for key, val in temp_total.items():\n",
    "    length = len(val[\"keywords_in\"])\n",
    "    if length < 26 and length >= 5:\n",
    "        total[key] = val\n",
    "        \n",
    "total_len = len(total)\n",
    "test_len = int(total_len * 0.2)\n",
    "validate_len = int(test_len)\n",
    "train_len = int(total_len - test_len * 2)\n",
    "\n",
    "print(train_len)\n",
    "print(test_len)\n",
    "print(validate_len)"
   ]
  },
  {
   "cell_type": "code",
   "execution_count": 29,
   "id": "c10f0d61",
   "metadata": {},
   "outputs": [],
   "source": [
    "ftrain = open('/home/ubuntu/pubmed/dataset/small_train.json', 'w')\n",
    "ftest = open('/home/ubuntu/pubmed/dataset/small_test.json', 'w')\n",
    "fvalidate = open('/home/ubuntu/pubmed/dataset/small_validate.json', 'w')\n",
    "\n",
    "test = {}\n",
    "train = {}\n",
    "validate = {}\n",
    "testc = 0\n",
    "trainc = 0\n",
    "validatec = 0\n",
    "\n",
    "# iterate the whole dictionary to put total dict elements into 3 buckets\n",
    "for key, val in total.items():\n",
    "    #if test dict is not full\n",
    "    if testc != test_len:\n",
    "        test[key] = val\n",
    "        testc += 1\n",
    "    elif trainc != train_len:\n",
    "        train[key] = val\n",
    "        trainc += 1\n",
    "    else:\n",
    "        validate[key] = val\n",
    "\n",
    "json.dump(test, ftest, indent = 4)\n",
    "json.dump(train, ftrain, indent = 4)\n",
    "json.dump(validate, fvalidate, indent = 4)\n",
    "\n",
    "ftrain.close()\n",
    "ftest.close()\n",
    "fvalidate.close()\n"
   ]
  },
  {
   "cell_type": "markdown",
   "id": "9d0f9400",
   "metadata": {},
   "source": [
    "## Plot the distribution of keywords"
   ]
  },
  {
   "cell_type": "markdown",
   "id": "7f7cd0ba",
   "metadata": {},
   "source": [
    "plot for total keywords"
   ]
  },
  {
   "cell_type": "code",
   "execution_count": 82,
   "id": "e0db15ba",
   "metadata": {},
   "outputs": [],
   "source": [
    "f = open('/home/ubuntu/pubmed/dataset/total.json')\n",
    "temp_total = json.load(f)\n",
    "f.close()"
   ]
  },
  {
   "cell_type": "code",
   "execution_count": 83,
   "id": "engaged-federal",
   "metadata": {},
   "outputs": [],
   "source": [
    "inhist = []\n",
    "outhist = []\n",
    "for count, value in temp_total.items():\n",
    "    t = len(value[\"keywords_in\"])\n",
    "    if t < 26:\n",
    "        inhist.append(t)\n",
    "    t = len(value[\"keywords_not_in\"])\n",
    "    if t < 26:\n",
    "        outhist.append(t)\n",
    "histdata = {\"keywords_in\":inhist, \"keywords_not_in\":outhist}"
   ]
  },
  {
   "cell_type": "code",
   "execution_count": 59,
   "id": "b0f54c5a",
   "metadata": {},
   "outputs": [
    {
     "data": {
      "image/png": "[encoded data removed]",
      "text/plain": [
       "<Figure size 432x288 with 1 Axes>"
      ]
     },
     "metadata": {
      "needs_background": "light"
     },
     "output_type": "display_data"
    }
   ],
   "source": [
    "plt.hist([inhist, outhist], label=['extractive', 'abstractive'])\n",
    "plt.legend(loc='upper right')\n",
    "plt.xlabel(\"Number of keywords\")\n",
    "plt.ylabel(\"Frequency\")\n",
    "plt.show()"
   ]
  },
  {
   "cell_type": "code",
   "execution_count": 84,
   "id": "c1dc8be0",
   "metadata": {},
   "outputs": [
    {
     "data": {
      "image/png": "[encoded data removed]",
      "text/plain": [
       "<Figure size 432x288 with 1 Axes>"
      ]
     },
     "metadata": {
      "needs_background": "light"
     },
     "output_type": "display_data"
    }
   ],
   "source": [
    "plt.hist([inhist, outhist], label=['extractive', 'abstractive'])\n",
    "plt.legend(loc='upper right')\n",
    "plt.xlabel(\"Number of keywords\")\n",
    "plt.yscale('log')\n",
    "plt.title(\"Log Count Histogram for Total dataset\")\n",
    "plt.ylabel(\"Frequency (log_e)\")\n",
    "plt.show()"
   ]
  },
  {
   "cell_type": "markdown",
   "id": "df304546",
   "metadata": {},
   "source": [
    "plot for small dataset keywords"
   ]
  },
  {
   "cell_type": "code",
   "execution_count": 62,
   "id": "52ea6d04",
   "metadata": {},
   "outputs": [],
   "source": [
    "inhist = []\n",
    "for count, value in total.items():\n",
    "    t = len(value[\"keywords_in\"])\n",
    "    inhist.append(t)\n"
   ]
  },
  {
   "cell_type": "code",
   "execution_count": 87,
   "id": "434cd6a1",
   "metadata": {},
   "outputs": [
    {
     "data": {
      "image/png": "[encoded data removed]",
      "text/plain": [
       "<Figure size 432x288 with 1 Axes>"
      ]
     },
     "metadata": {
      "needs_background": "light"
     },
     "output_type": "display_data"
    }
   ],
   "source": [
    "plt.hist([inhist], label=['extractive'],rwidth = 0.5, align = 'left', bins = list(range(5,27)))\n",
    "plt.legend(loc='upper right')\n",
    "plt.xlabel(\"Number of keywords\")\n",
    "plt.yscale('log')\n",
    "plt.title('Log Count Histogram for Small dataset')\n",
    "plt.ylabel(\"Frequency (log_e)\")\n",
    "plt.show()"
   ]
  }
 ],
 "metadata": {
  "kernelspec": {
   "display_name": "Python 3",
   "language": "python",
   "name": "python3"
  },
  "language_info": {
   "codemirror_mode": {
    "name": "ipython",
    "version": 3
   },
   "file_extension": ".py",
   "mimetype": "text/x-python",
   "name": "python",
   "nbconvert_exporter": "python",
   "pygments_lexer": "ipython3",
   "version": "3.5.2"
  }
 },
 "nbformat": 4,
 "nbformat_minor": 5
}
