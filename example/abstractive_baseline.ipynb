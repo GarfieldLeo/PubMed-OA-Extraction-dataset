{
 "cells": [
  {
   "cell_type": "code",
   "execution_count": 29,
   "id": "2a0a055e",
   "metadata": {},
   "outputs": [],
   "source": [
    "import json\n",
    "import pke\n",
    "import numpy as np\n",
    "import string\n",
    "from nltk.corpus import stopwords\n",
    "# load the abstractive summerizer\n",
    "from transformers import pipeline\n",
    "summarizer = pipeline(\"summarization\")"
   ]
  },
  {
   "cell_type": "code",
   "execution_count": 7,
   "id": "b16c3b32",
   "metadata": {},
   "outputs": [],
   "source": [
    "# load data\n",
    "f = open('/home/ubuntu/pubmed/dataset/test.json')\n",
    "total = json.load(f)\n",
    "f.close()"
   ]
  },
  {
   "cell_type": "code",
   "execution_count": 31,
   "id": "8fa72f5b",
   "metadata": {},
   "outputs": [],
   "source": [
    "# a simple evaluation that counts the number of exact match strings of two lists\n",
    "def match(list1, list2):\n",
    "    same = set(list1).intersection(set(list2))\n",
    "    return len(same)"
   ]
  },
  {
   "cell_type": "code",
   "execution_count": null,
   "id": "66dc0595",
   "metadata": {},
   "outputs": [],
   "source": [
    "# the result array [@5, @10, @15] stores the result of extracting 5, 10 and 15 keyphrases \n",
    "multirank_ground_truth = np.zeros(3)\n",
    "multirank_matched = np.zeros(3)\n",
    "multirank_extracted = np.zeros(3)\n",
    "\n",
    "# write to file to save extracted keywords\n",
    "f = open('/home/ubuntu/pubmed/abstractive/multirank.json', 'w')\n",
    "final = {}\n",
    "abstracted = {}\n",
    "# write to file to save summarized abstract and title\n",
    "f1 = open(\"abstract_text.json\",'w')\n",
    "\n",
    "\n",
    "for count, body in total.items():\n",
    "    abstract = body['abstract']\n",
    "    title = body['title']\n",
    "    kwds_in = body['keywords_in']\n",
    "    kwds_not_in = body['keywords_not_in']\n",
    "    text = title + abstract\n",
    "    # use summarizer to summarize\n",
    "    try:\n",
    "        summed_text = summarizer(text, max_length = 200, min_length = 20, do_sample = False)[0][\"summary_text\"]\n",
    "    except:\n",
    "        continue\n",
    "    # use pke to extract kwds from summarized text\n",
    "    extractor = pke.unsupervised.MultipartiteRank()\n",
    "\n",
    "    extractor.load_document(input=summed_text)\n",
    "\n",
    "    pos = {'NOUN', 'PROPN', 'ADJ'}\n",
    "    stoplist = list(string.punctuation)\n",
    "    stoplist += ['-lrb-', '-rrb-', '-lcb-', '-rcb-', '-lsb-', '-rsb-']\n",
    "    stoplist += stopwords.words('english')\n",
    "    extractor.candidate_selection(pos=pos, stoplist=stoplist)\n",
    "\n",
    "    extractor.candidate_weighting(alpha=1.1,\n",
    "                                  threshold=0.74,\n",
    "                                  method='average')\n",
    "    # extract top 5, 10, 15 kwds\n",
    "    temp = {5:[], 10:[], 15:[]}\n",
    "    for nn in [5,10,15]:\n",
    "        keyphrases = extractor.get_n_best(n=nn)\n",
    "        keyphrases = [i[0] for i in keyphrases]\n",
    "        index = (int)(nn/5-1)\n",
    "        multirank_extracted[index] += nn\n",
    "        multirank_ground_truth[index] += len(kwds_not_in)\n",
    "        multirank_matched[index] += match(kwds_not_in, keyphrases)\n",
    "        temp[nn] = keyphrases\n",
    "    final[count] = temp\n",
    "    abstracted[count] = summed_text\n",
    "json.dump(final, f, indent = 4)\n",
    "json.dump(abstracted, f1, indent = 4)\n",
    "f1.close()\n",
    "f.close()                  \n",
    "multirank_precision = multirank_matched / multirank_extracted\n",
    "multirank_recall = multirank_matched / multirank_ground_truth\n",
    "multirank_f1 = 2 * multirank_precision * multirank_recall / (multirank_precision + multirank_recall)\n"
   ]
  },
  {
   "cell_type": "code",
   "execution_count": 38,
   "id": "a44dd6e7",
   "metadata": {},
   "outputs": [
    {
     "name": "stdout",
     "output_type": "stream",
     "text": [
      "[0.00174413 0.00121127 0.00085622]\n",
      "[0.00406585 0.00564732 0.00598799]\n",
      "[0.0024411  0.0019947  0.00149822]\n"
     ]
    }
   ],
   "source": [
    "print(multirank_precision)\n",
    "print(multirank_recall)\n",
    "print(multirank_f1)"
   ]
  }
 ],
 "metadata": {
  "kernelspec": {
   "display_name": "Environment (conda_pytorch_latest_p37)",
   "language": "python",
   "name": "conda_pytorch_latest_p37"
  },
  "language_info": {
   "codemirror_mode": {
    "name": "ipython",
    "version": 3
   },
   "file_extension": ".py",
   "mimetype": "text/x-python",
   "name": "python",
   "nbconvert_exporter": "python",
   "pygments_lexer": "ipython3",
   "version": "3.7.10"
  }
 },
 "nbformat": 4,
 "nbformat_minor": 5
}
