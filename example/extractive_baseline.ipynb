{
 "cells": [
  {
   "cell_type": "code",
   "execution_count": null,
   "id": "filled-reliance",
   "metadata": {},
   "outputs": [],
   "source": [
    "import pandas as pd\n",
    "import pubmedake"
   ]
  },
  {
   "cell_type": "markdown",
   "id": "f6bcdea6",
   "metadata": {},
   "source": [
    "## Load the sample data and set the top k evaluations"
   ]
  },
  {
   "cell_type": "code",
   "execution_count": null,
   "id": "reverse-examination",
   "metadata": {},
   "outputs": [],
   "source": [
    "# load the data\n",
    "total = pubmedake.read_pubmedake('../data/sample_1000.json')\n",
    "top_k_list = [5,10,15]"
   ]
  },
  {
   "cell_type": "markdown",
   "id": "6ac8e501",
   "metadata": {},
   "source": [
    "## Illustration of the 3 types of evaluation supported in PubMedAKE\n",
    "\n",
    "- Exact match: Performs an exact string comparion between two sets of keywords\n",
    "- Porter match: First stems the two sets of keywords using PorterStemmer and then compares the two sets of keywords\n",
    "- Partial match: Calculates matching based on words within the keyphrases"
   ]
  },
  {
   "cell_type": "code",
   "execution_count": null,
   "id": "a4db23e5",
   "metadata": {},
   "outputs": [],
   "source": [
    "def print_all_results(ext_kwds):\n",
    "    exact_perf = pubmedake.evaluate_model(ext_kwds, total,\n",
    "                                          pubmedake.exact_match,\n",
    "                                          \"keywords_in\")\n",
    "    stem_perf = pubmedake.evaluate_model(ext_kwds, total,\n",
    "                                         pubmedake.porter_match, \n",
    "                                         \"keywords_in\")\n",
    "    partial_perf = pubmedake.evaluate_model(ext_kwds, total, \n",
    "                                            pubmedake.partial_match, \n",
    "                                            \"keywords_in\")\n",
    "    print(\"-----Exact-----\")\n",
    "    print(pd.DataFrame.from_dict(exact_perf).T)\n",
    "    print(\"-----Stem-----\")\n",
    "    print(pd.DataFrame.from_dict(stem_perf).T)\n",
    "    print(\"-----Partial-----\")\n",
    "    print(pd.DataFrame.from_dict(partial_perf).T)"
   ]
  },
  {
   "cell_type": "markdown",
   "id": "e8d37965",
   "metadata": {},
   "source": [
    "## Illustration of model evaluation of Yake on the sample dataset"
   ]
  },
  {
   "cell_type": "code",
   "execution_count": null,
   "id": "08822bf2",
   "metadata": {},
   "outputs": [],
   "source": [
    "# run yake and store to file\n",
    "yakekwds = pubmedake.run_pke_model(total, top_k_list, \n",
    "                                   pubmedake.run_yake,\n",
    "                                   \"../results/sample_yakekwds.json\")\n",
    "print_all_results(yakekwds)"
   ]
  },
  {
   "cell_type": "markdown",
   "id": "680513c1",
   "metadata": {},
   "source": [
    "## Evaluation of other unsupervised methods in the pke package"
   ]
  },
  {
   "cell_type": "code",
   "execution_count": null,
   "id": "09bcb5d7",
   "metadata": {},
   "outputs": [],
   "source": [
    "# run textrank and store to file\n",
    "textkwds = pubmedake.run_pke_model(total, top_k_list, \n",
    "                                   pubmedake.run_textrank,\n",
    "                                   \"../results/sample_textrankkwds.json\")\n",
    "print_all_results(textkwds)"
   ]
  },
  {
   "cell_type": "code",
   "execution_count": null,
   "id": "91feccbd",
   "metadata": {},
   "outputs": [],
   "source": [
    "# run singlerank and store to file\n",
    "singlerankkwds = pubmedake.run_pke_model(total, top_k_list, \n",
    "                                   pubmedake.run_singlerank,\n",
    "                                   \"../results/sample_singlerankkwds.json\")\n",
    "print_all_results(singlerankkwds)"
   ]
  },
  {
   "cell_type": "code",
   "execution_count": null,
   "id": "ef400432",
   "metadata": {},
   "outputs": [],
   "source": [
    "# run topicrank and store to file\n",
    "topicrankkwds = pubmedake.run_pke_model(total, top_k_list, \n",
    "                                   pubmedake.run_topicrank,\n",
    "                                   \"../results/sample_topicrankkwds.json\")\n",
    "print_all_results(topicrankkwds)"
   ]
  },
  {
   "cell_type": "code",
   "execution_count": null,
   "id": "4201d1cc",
   "metadata": {},
   "outputs": [],
   "source": [
    "# run positionrank and store to file\n",
    "positionrankkwds = pubmedake.run_pke_model(total, top_k_list, \n",
    "                                   pubmedake.run_positionrank,\n",
    "                                   \"../results/sample_positionrankkwds.json\")\n",
    "print_all_results(positionrankkwds)"
   ]
  },
  {
   "cell_type": "code",
   "execution_count": null,
   "id": "e0769f0b",
   "metadata": {},
   "outputs": [],
   "source": [
    "# run positionrank and store to file\n",
    "run_multirankkwds = pubmedake.run_pke_model(total, top_k_list, \n",
    "                                   pubmedake.run_multirank,\n",
    "                                   \"../results/sample_multirankkwds.json\")\n",
    "print_all_results(run_multirankkwds)"
   ]
  }
 ],
 "metadata": {
  "kernelspec": {
   "display_name": "Python 3 (ipykernel)",
   "language": "python",
   "name": "python3"
  },
  "language_info": {
   "codemirror_mode": {
    "name": "ipython",
    "version": 3
   },
   "file_extension": ".py",
   "mimetype": "text/x-python",
   "name": "python",
   "nbconvert_exporter": "python",
   "pygments_lexer": "ipython3",
   "version": "3.9.12"
  }
 },
 "nbformat": 4,
 "nbformat_minor": 5
}
